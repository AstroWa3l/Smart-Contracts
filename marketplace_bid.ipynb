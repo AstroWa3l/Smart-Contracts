{
 "cells": [
  {
   "cell_type": "code",
   "execution_count": 1,
   "metadata": {},
   "outputs": [],
   "source": [
    "import os\n",
    "import pycardano as pc\n",
    "import random\n",
    "import time\n",
    "from marketplace import *\n",
    "import pathlib"
   ]
  },
  {
   "cell_type": "code",
   "execution_count": 2,
   "metadata": {},
   "outputs": [],
   "source": [
    "# Copy your BlockFrost project ID below. Go to https://blockfrost.io/ for more information.\n",
    "# BLOCK_FROST_PROJECT_ID = \"your_project_id\"\n",
    "NETWORK = pc.Network.TESTNET\n",
    "\n",
    "# Use ogmios backend for chain context\n",
    "context = pc.OgmiosChainContext(ws_url=\"wss://ogmios-preprod-api-testing-2fdd06.us1.demeter.run\", network=NETWORK)\n",
    "\n",
    "# chain_context = BlockFrostChainContext(\n",
    "#     project_id=BLOCK_FROST_PROJECT_ID,\n",
    "#     base_url=ApiUrls.preprod.value,\n",
    "# )\n",
    "\n",
    "\"\"\"Preparation\"\"\"\n",
    "# Define the root directory where images and keys will be stored.\n",
    "PROJECT_ROOT = \"marketplace\"\n",
    "root = pathlib.Path(PROJECT_ROOT)\n",
    "\n",
    "# Create the directory if it doesn't exist\n",
    "root.mkdir(parents=True, exist_ok=True)\n",
    "\n",
    "\"\"\"Generate keys\"\"\"\n",
    "key_dir = root / \"keys\"\n",
    "key_dir.mkdir(exist_ok=True)\n",
    "\n",
    "# Load payment keys or create them if they don't exist\n",
    "def load_or_create_key_pair(base_dir, base_name):\n",
    "    skey_path = base_dir / f\"{base_name}.skey\"\n",
    "    vkey_path = base_dir / f\"{base_name}.vkey\"\n",
    "    stake_skey_path = base_dir / f\"{base_name}_stake.skey\"\n",
    "    stake_vkey_path = base_dir / f\"{base_name}_stake.vkey\"\n",
    "\n",
    "    if skey_path.exists():\n",
    "        skey = pc.PaymentSigningKey.load(str(skey_path))\n",
    "        vkey = pc.PaymentVerificationKey.from_signing_key(skey)\n",
    "        stake_skey = pc.StakeSigningKey.load(str(stake_skey_path))\n",
    "        stake_vkey = pc.StakeVerificationKey.from_signing_key(stake_skey)\n",
    "    else:\n",
    "        key_pair = pc.PaymentKeyPair.generate()\n",
    "        key_pair.signing_key.save(str(skey_path))\n",
    "        key_pair.verification_key.save(str(vkey_path))\n",
    "        stake_key_pair = pc.StakeKeyPair.generate()\n",
    "        stake_key_pair.signing_key.save(str(stake_skey_path))\n",
    "        stake_key_pair.verification_key.save(str(stake_vkey_path))\n",
    "        stake_skey = stake_key_pair.signing_key\n",
    "        stake_vkey = stake_key_pair.verification_key\n",
    "        skey = key_pair.signing_key\n",
    "        vkey = key_pair.verification_key\n",
    "    \n",
    "    return skey, vkey, stake_skey, stake_vkey"
   ]
  },
  {
   "cell_type": "code",
   "execution_count": 3,
   "metadata": {},
   "outputs": [],
   "source": [
    "owner_skey, owner_vkey, owner_stake_skey, owner_stake_vkey = load_or_create_key_pair(key_dir, \"owner\")\n",
    "\n",
    "\n",
    "bidder_skey, bidder_vkey, bidder_stake_skey, bidder_stake_vkey = load_or_create_key_pair(key_dir, \"bidder\")"
   ]
  },
  {
   "cell_type": "code",
   "execution_count": 4,
   "metadata": {},
   "outputs": [],
   "source": [
    "owner_address = pc.Address(payment_part=owner_vkey.hash(), staking_part=owner_stake_vkey.hash(), network=NETWORK)\n",
    "bidder_address = pc.Address(payment_part=bidder_vkey.hash(), staking_part=bidder_stake_vkey.hash(), network=NETWORK)"
   ]
  },
  {
   "cell_type": "code",
   "execution_count": 5,
   "metadata": {},
   "outputs": [
    {
     "name": "stdout",
     "output_type": "stream",
     "text": [
      "Owner address: addr_test1qq5g0m0h7kzts8mfuckeuyr2qxk9fgfskz47kx0fz7l45m35sz43s8xuc9qt8kdxlchhy90d4yp0sa43vdrxuu9jewps34ue95\n",
      "Bidder address: addr_test1qzjr9whvuyldxf9ft6998jjwnq72syr2yeqlmygxfhl2d2c8lxhg9ar5qfnk2w5j0gj6fvygkdcdgd9e7gftjgt4dvhqv0ej3s\n"
     ]
    }
   ],
   "source": [
    "print(f\"Owner address: {owner_address}\")\n",
    "print(f\"Bidder address: {bidder_address}\")"
   ]
  },
  {
   "cell_type": "code",
   "execution_count": 6,
   "metadata": {},
   "outputs": [],
   "source": [
    "script_path = pathlib.Path().cwd()\n",
    "script_path = script_path.joinpath(\"build\",\"marketplace\", \"script.cbor\")"
   ]
  },
  {
   "cell_type": "code",
   "execution_count": 7,
   "metadata": {},
   "outputs": [],
   "source": [
    "with open(script_path) as f:\n",
    "        cbor_hex = f.read()\n",
    "\n",
    "cbor = bytes.fromhex(cbor_hex)"
   ]
  },
  {
   "cell_type": "code",
   "execution_count": 8,
   "metadata": {},
   "outputs": [],
   "source": [
    "plutus_script = pc.PlutusV2Script(cbor)\n",
    "script_hash = pc.plutus_script_hash(plutus_script)\n",
    "script_address = pc.Address(script_hash, network=NETWORK)"
   ]
  },
  {
   "cell_type": "code",
   "execution_count": 13,
   "metadata": {},
   "outputs": [
    {
     "data": {
      "text/plain": [
       "[{'input': {\n",
       "   'index': 0,\n",
       "   'transaction_id': TransactionId(hex='09a87ffaab78b8ba90c240650af4662cbdb8543b7731a73b54b487314e929479'),\n",
       " },\n",
       "  'output': {\n",
       "   'address': addr_test1wqvfw4e97r4rw7ue4t47326kuendl8eua4acllfa4t5djgqvzrycq,\n",
       "   'amount': {'coin': 3000000, 'multi_asset': {}},\n",
       "   'datum': RawCBOR(cbor=b'\\xd8y\\x9f\\x1a\\x05\\xf5\\xe1\\x00X9\\x00(\\x87\\xed\\xf7\\xf5\\x84\\xb8\\x1fi\\xe6-\\x9e\\x10j\\x01\\xacT\\xa10\\xb0\\xab\\xeb\\x19\\xe9\\x17\\xbfZn4\\x80\\xab\\x18\\x1c\\xdc\\xc1@\\xb3\\xd9\\xa6\\xfe/r\\x15\\xed\\xa9\\x02\\xf8v\\xb1cFnp\\xb2\\xcb\\x83X\\x1c\\xa42\\xba\\xec\\xe1>\\xd3$\\xa9^\\x8aS\\xcaN\\x98<\\xa8\\x10j&A\\xfd\\x91\\x06M\\xfe\\xa6\\xab\\xff'),\n",
       "   'datum_hash': None,\n",
       "   'post_alonzo': False,\n",
       "   'script': None,\n",
       " }}]"
      ]
     },
     "execution_count": 13,
     "metadata": {},
     "output_type": "execute_result"
    }
   ],
   "source": [
    "context.utxos(str(script_address))"
   ]
  },
  {
   "cell_type": "code",
   "execution_count": 42,
   "metadata": {},
   "outputs": [
    {
     "data": {
      "text/plain": [
       "True"
      ]
     },
     "execution_count": 42,
     "metadata": {},
     "output_type": "execute_result"
    }
   ],
   "source": [
    "isinstance(context.utxos(str(script_address))[0], pc.UTxO)"
   ]
  },
  {
   "cell_type": "code",
   "execution_count": 11,
   "metadata": {},
   "outputs": [
    {
     "ename": "AssertionError",
     "evalue": "No script UTxOs found!",
     "output_type": "error",
     "traceback": [
      "\u001b[0;31m---------------------------------------------------------------------------\u001b[0m",
      "\u001b[0;31mAssertionError\u001b[0m                            Traceback (most recent call last)",
      "\u001b[0;32m/var/folders/qm/qxx0f2_j4pd9p5_p096pjflw0000gn/T/ipykernel_41607/4023461426.py\u001b[0m in \u001b[0;36m<module>\u001b[0;34m\u001b[0m\n\u001b[1;32m     16\u001b[0m                 \u001b[0mutxo_to_spend\u001b[0m \u001b[0;34m=\u001b[0m \u001b[0mutxo\u001b[0m\u001b[0;34m\u001b[0m\u001b[0;34m\u001b[0m\u001b[0m\n\u001b[1;32m     17\u001b[0m                 \u001b[0;32mbreak\u001b[0m\u001b[0;34m\u001b[0m\u001b[0;34m\u001b[0m\u001b[0m\n\u001b[0;32m---> 18\u001b[0;31m \u001b[0;32massert\u001b[0m \u001b[0misinstance\u001b[0m\u001b[0;34m(\u001b[0m\u001b[0mutxo_to_spend\u001b[0m\u001b[0;34m,\u001b[0m \u001b[0mpc\u001b[0m\u001b[0;34m.\u001b[0m\u001b[0mUTxO\u001b[0m\u001b[0;34m)\u001b[0m\u001b[0;34m,\u001b[0m \u001b[0;34m\"No script UTxOs found!\"\u001b[0m\u001b[0;34m\u001b[0m\u001b[0;34m\u001b[0m\u001b[0m\n\u001b[0m\u001b[1;32m     19\u001b[0m \u001b[0;34m\u001b[0m\u001b[0m\n\u001b[1;32m     20\u001b[0m         \u001b[0;31m# if parameterized:\u001b[0m\u001b[0;34m\u001b[0m\u001b[0;34m\u001b[0m\u001b[0m\n",
      "\u001b[0;31mAssertionError\u001b[0m: No script UTxOs found!"
     ]
    }
   ],
   "source": [
    "# Get payment address    \n",
    "payment_address = bidder_address\n",
    "\n",
    "# Find a script UTxO\n",
    "utxo_to_spend = None\n",
    "for utxo in context.utxos(str(script_address)):\n",
    "    if utxo.output.datum:\n",
    "\n",
    "        try:\n",
    "                params = Listing.from_cbor(utxo.output.datum.cbor)\n",
    "                print(params)\n",
    "        except Exception:\n",
    "                continue\n",
    "        \n",
    "        if (params.owner == bytes(payment_address.payment_part)):\n",
    "                utxo_to_spend = utxo\n",
    "                break\n",
    "assert isinstance(utxo_to_spend, pc.UTxO), \"No script UTxOs found!\"\n"
   ]
  },
  {
   "cell_type": "code",
   "execution_count": 32,
   "metadata": {},
   "outputs": [
    {
     "ename": "NameError",
     "evalue": "name 'params' is not defined",
     "output_type": "error",
     "traceback": [
      "\u001b[0;31m---------------------------------------------------------------------------\u001b[0m",
      "\u001b[0;31mNameError\u001b[0m                                 Traceback (most recent call last)",
      "\u001b[0;32m/var/folders/qm/qxx0f2_j4pd9p5_p096pjflw0000gn/T/ipykernel_6859/544428641.py\u001b[0m in \u001b[0;36m<module>\u001b[0;34m\u001b[0m\n\u001b[0;32m----> 1\u001b[0;31m \u001b[0mparams\u001b[0m\u001b[0;34m\u001b[0m\u001b[0;34m\u001b[0m\u001b[0m\n\u001b[0m",
      "\u001b[0;31mNameError\u001b[0m: name 'params' is not defined"
     ]
    }
   ],
   "source": [
    "params"
   ]
  },
  {
   "cell_type": "code",
   "execution_count": null,
   "metadata": {},
   "outputs": [],
   "source": []
  }
 ],
 "metadata": {
  "kernelspec": {
   "display_name": "base",
   "language": "python",
   "name": "python3"
  },
  "language_info": {
   "codemirror_mode": {
    "name": "ipython",
    "version": 3
   },
   "file_extension": ".py",
   "mimetype": "text/x-python",
   "name": "python",
   "nbconvert_exporter": "python",
   "pygments_lexer": "ipython3",
   "version": "3.9.7"
  },
  "orig_nbformat": 4
 },
 "nbformat": 4,
 "nbformat_minor": 2
}
