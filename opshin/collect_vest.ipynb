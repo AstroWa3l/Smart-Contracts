{
 "cells": [
  {
   "cell_type": "code",
   "execution_count": 13,
   "metadata": {},
   "outputs": [],
   "source": [
    "import os\n",
    "import pycardano as pc\n",
    "import random\n",
    "import time\n",
    "from vesting import *\n",
    "import pathlib"
   ]
  },
  {
   "cell_type": "code",
   "execution_count": 15,
   "metadata": {},
   "outputs": [],
   "source": [
    "# Copy your BlockFrost project ID below. Go to https://blockfrost.io/ for more information.\n",
    "# BLOCK_FROST_PROJECT_ID = \"your_project_id\"\n",
    "NETWORK = pc.Network.TESTNET\n",
    "\n",
    "# Use ogmios backend for chain context\n",
    "context = pc.OgmiosChainContext(ws_url=\"wss://ogmios-preprod-api-testing-2fdd06.us1.demeter.run\", network=NETWORK)\n",
    "\n",
    "# chain_context = BlockFrostChainContext(\n",
    "#     project_id=BLOCK_FROST_PROJECT_ID,\n",
    "#     base_url=ApiUrls.preprod.value,\n",
    "# )\n",
    "\n",
    "\"\"\"Preparation\"\"\"\n",
    "# Define the root directory where images and keys will be stored.\n",
    "PROJECT_ROOT = \"marketplace\"\n",
    "root = pathlib.Path(PROJECT_ROOT)\n",
    "\n",
    "# Create the directory if it doesn't exist\n",
    "root.mkdir(parents=True, exist_ok=True)\n",
    "\n",
    "\"\"\"Generate keys\"\"\"\n",
    "key_dir = root / \"keys\"\n",
    "key_dir.mkdir(exist_ok=True)\n",
    "\n",
    "# Load payment keys or create them if they don't exist\n",
    "def load_or_create_key_pair(base_dir, base_name):\n",
    "    skey_path = base_dir / f\"{base_name}.skey\"\n",
    "    vkey_path = base_dir / f\"{base_name}.vkey\"\n",
    "    stake_skey_path = base_dir / f\"{base_name}_stake.skey\"\n",
    "    stake_vkey_path = base_dir / f\"{base_name}_stake.vkey\"\n",
    "\n",
    "    if skey_path.exists():\n",
    "        skey = pc.PaymentSigningKey.load(str(skey_path))\n",
    "        vkey = pc.PaymentVerificationKey.from_signing_key(skey)\n",
    "        stake_skey = pc.StakeSigningKey.load(str(stake_skey_path))\n",
    "        stake_vkey = pc.StakeVerificationKey.from_signing_key(stake_skey)\n",
    "    else:\n",
    "        key_pair = pc.PaymentKeyPair.generate()\n",
    "        key_pair.signing_key.save(str(skey_path))\n",
    "        key_pair.verification_key.save(str(vkey_path))\n",
    "        stake_key_pair = pc.StakeKeyPair.generate()\n",
    "        stake_key_pair.signing_key.save(str(stake_skey_path))\n",
    "        stake_key_pair.verification_key.save(str(stake_vkey_path))\n",
    "        stake_skey = stake_key_pair.signing_key\n",
    "        stake_vkey = stake_key_pair.verification_key\n",
    "        skey = key_pair.signing_key\n",
    "        vkey = key_pair.verification_key\n",
    "    \n",
    "    return skey, vkey, stake_skey, stake_vkey"
   ]
  },
  {
   "cell_type": "code",
   "execution_count": 16,
   "metadata": {},
   "outputs": [
    {
     "name": "stdout",
     "output_type": "stream",
     "text": [
      "Owner address: addr_test1qq5g0m0h7kzts8mfuckeuyr2qxk9fgfskz47kx0fz7l45m35sz43s8xuc9qt8kdxlchhy90d4yp0sa43vdrxuu9jewps34ue95\n",
      "beneficiary address: addr_test1qzjr9whvuyldxf9ft6998jjwnq72syr2yeqlmygxfhl2d2c8lxhg9ar5qfnk2w5j0gj6fvygkdcdgd9e7gftjgt4dvhqv0ej3s\n"
     ]
    }
   ],
   "source": [
    "owner_skey, owner_vkey, owner_stake_skey, owner_stake_vkey = load_or_create_key_pair(key_dir, \"owner\")\n",
    "beneficiary_skey, beneficiary_vkey, beneficiary_stake_skey, beneficiary_stake_vkey = load_or_create_key_pair(key_dir, \"bidder\")\n",
    "owner_address = pc.Address(payment_part=owner_vkey.hash(), staking_part=owner_stake_vkey.hash(), network=NETWORK)\n",
    "beneficiary_address = pc.Address(payment_part=beneficiary_vkey.hash(), staking_part=beneficiary_stake_vkey.hash(), network=NETWORK)\n",
    "print(f\"Owner address: {owner_address}\")\n",
    "print(f\"beneficiary address: {beneficiary_address}\")"
   ]
  },
  {
   "cell_type": "code",
   "execution_count": 17,
   "metadata": {},
   "outputs": [],
   "source": [
    "script_path = pathlib.Path().cwd()\n",
    "script_path = script_path.joinpath(\"build\",\"vesting\", \"script.cbor\")"
   ]
  },
  {
   "cell_type": "code",
   "execution_count": 18,
   "metadata": {},
   "outputs": [],
   "source": [
    "with open(script_path) as f:\n",
    "        cbor_hex = f.read()\n",
    "\n",
    "cbor = bytes.fromhex(cbor_hex)"
   ]
  },
  {
   "cell_type": "code",
   "execution_count": 8,
   "metadata": {},
   "outputs": [],
   "source": [
    "plutus_script = pc.PlutusV2Script(cbor)\n",
    "script_hash = pc.plutus_script_hash(plutus_script)\n",
    "script_address = pc.Address(script_hash, network=NETWORK)"
   ]
  },
  {
   "cell_type": "code",
   "execution_count": 19,
   "metadata": {},
   "outputs": [],
   "source": [
    "# Get payment address    \n",
    "payment_address = beneficiary_address "
   ]
  },
  {
   "cell_type": "code",
   "execution_count": 20,
   "metadata": {},
   "outputs": [
    {
     "name": "stdout",
     "output_type": "stream",
     "text": [
      "VestingParams(beneficiary=b'\\xa42\\xba\\xec\\xe1>\\xd3$\\xa9^\\x8aS\\xcaN\\x98<\\xa8\\x10j&A\\xfd\\x91\\x06M\\xfe\\xa6\\xab', deadline=1680226821000)\n"
     ]
    }
   ],
   "source": [
    "# Find a script UTxO\n",
    "utxo_to_spend = None\n",
    "for utxo in context.utxos(str(script_address)):\n",
    "    if utxo.output.datum:\n",
    "            \n",
    "        try:\n",
    "                params = VestingParams.from_cbor(utxo.output.datum.cbor)\n",
    "                print(params)\n",
    "                \n",
    "        except Exception:\n",
    "                continue\n",
    "        \n",
    "        if (\n",
    "                params.beneficiary == bytes(payment_address.payment_part) and\n",
    "                params.deadline < time.time() * 1000\n",
    "        \n",
    "        ):\n",
    "                utxo_to_spend = utxo\n",
    "                break\n",
    "assert isinstance(utxo_to_spend, pc.UTxO), \"No script UTxOs found!\""
   ]
  },
  {
   "cell_type": "code",
   "execution_count": 22,
   "metadata": {},
   "outputs": [],
   "source": [
    "# Find a collateral UTxO\n",
    "non_nft_utxo = None\n",
    "for utxo in context.utxos(str(payment_address)):\n",
    "    # multi_asset should be empty for collateral utxo\n",
    "    if not utxo.output.amount.multi_asset and utxo.output.amount.coin > 5000000:\n",
    "        non_nft_utxo = utxo\n",
    "        break\n",
    "assert isinstance(non_nft_utxo, pc.UTxO), \"No collateral UTxOs found!\""
   ]
  },
  {
   "cell_type": "code",
   "execution_count": 39,
   "metadata": {},
   "outputs": [],
   "source": [
    "# Need a redeemer\n",
    "redeemer = pc.Redeemer(pc.RedeemerTag.SPEND, 0)"
   ]
  },
  {
   "cell_type": "code",
   "execution_count": 40,
   "metadata": {},
   "outputs": [],
   "source": [
    "# Build the transaction\n",
    "builder = pc.TransactionBuilder(context)\n",
    "builder.add_script_input(utxo_to_spend, script=plutus_script, redeemer=redeemer)\n",
    "builder.collaterals.append(non_nft_utxo)\n",
    "# This tells pycardano to add vkey_hash to the witness set when calculating the transaction cost\n",
    "vkey_hash: pc.VerificationKeyHash = payment_address.payment_part\n",
    "builder.required_signers = [vkey_hash]\n",
    "# we must specify at least the start of the tx valid range in slots\n",
    "builder.validity_start = context.last_block_slot\n",
    "# This specifies the end of tx valid range in slots\n",
    "builder.ttl = builder.validity_start + 1000"
   ]
  },
  {
   "cell_type": "code",
   "execution_count": 41,
   "metadata": {},
   "outputs": [],
   "source": [
    "# Sign the transaction\n",
    "signed_tx = builder.build_and_sign(\n",
    "    signing_keys=[beneficiary_skey],\n",
    "    change_address=payment_address,\n",
    ")"
   ]
  },
  {
   "cell_type": "code",
   "execution_count": 42,
   "metadata": {},
   "outputs": [
    {
     "name": "stdout",
     "output_type": "stream",
     "text": [
      "transaction id: d84be2c935384691bfbcca80a660ceaa5d3e332e59994a5edf162a112c612a69\n",
      "Cardanoscan: https://preprod.cardanoscan.io/transaction/d84be2c935384691bfbcca80a660ceaa5d3e332e59994a5edf162a112c612a69\n"
     ]
    }
   ],
   "source": [
    "# Submit the transaction\n",
    "context.submit_tx(signed_tx.to_cbor())\n",
    "\n",
    "# context.submit_tx(signed_tx.to_cbor())\n",
    "print(f\"transaction id: {signed_tx.id}\")\n",
    "print(f\"Cardanoscan: https://preprod.cardanoscan.io/transaction/{signed_tx.id}\")"
   ]
  }
 ],
 "metadata": {
  "kernelspec": {
   "display_name": "base",
   "language": "python",
   "name": "python3"
  },
  "language_info": {
   "codemirror_mode": {
    "name": "ipython",
    "version": 3
   },
   "file_extension": ".py",
   "mimetype": "text/x-python",
   "name": "python",
   "nbconvert_exporter": "python",
   "pygments_lexer": "ipython3",
   "version": "3.9.7"
  },
  "orig_nbformat": 4
 },
 "nbformat": 4,
 "nbformat_minor": 2
}
