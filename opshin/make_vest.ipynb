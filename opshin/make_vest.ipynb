{
 "cells": [
  {
   "cell_type": "code",
   "execution_count": 2,
   "metadata": {},
   "outputs": [],
   "source": [
    "import os\n",
    "import pycardano as pc\n",
    "import random\n",
    "import time\n",
    "from marketplace import * \n",
    "import pathlib\n",
    "from vesting import *"
   ]
  },
  {
   "attachments": {},
   "cell_type": "markdown",
   "metadata": {},
   "source": [
    "Need to build the vesting contract and transaction to deploy it."
   ]
  },
  {
   "cell_type": "code",
   "execution_count": 3,
   "metadata": {},
   "outputs": [],
   "source": [
    "NETWORK = pc.Network.TESTNET\n",
    "\n",
    "# Use ogmios backend for chain context\n",
    "context = pc.OgmiosChainContext(ws_url=\"wss://ogmios-preprod-api-testing-2fdd06.us1.demeter.run\", network=NETWORK)"
   ]
  },
  {
   "cell_type": "code",
   "execution_count": 5,
   "metadata": {},
   "outputs": [],
   "source": [
    "\"\"\"Preparation\"\"\"\n",
    "# Define the root directory where images and keys will be stored.\n",
    "PROJECT_ROOT = \"marketplace\"\n",
    "root = pathlib.Path(PROJECT_ROOT)\n",
    "\n",
    "# Create the directory if it doesn't exist\n",
    "root.mkdir(parents=True, exist_ok=True)\n",
    "\n",
    "\"\"\"Generate keys\"\"\"\n",
    "key_dir = root / \"keys\"\n",
    "key_dir.mkdir(exist_ok=True)"
   ]
  },
  {
   "cell_type": "code",
   "execution_count": 6,
   "metadata": {},
   "outputs": [],
   "source": [
    "# Load payment keys or create them if they don't exist\n",
    "def load_or_create_key_pair(base_dir, base_name):\n",
    "    skey_path = base_dir / f\"{base_name}.skey\"\n",
    "    vkey_path = base_dir / f\"{base_name}.vkey\"\n",
    "    stake_skey_path = base_dir / f\"{base_name}_stake.skey\"\n",
    "    stake_vkey_path = base_dir / f\"{base_name}_stake.vkey\"\n",
    "\n",
    "    if skey_path.exists():\n",
    "        skey = pc.PaymentSigningKey.load(str(skey_path))\n",
    "        vkey = pc.PaymentVerificationKey.from_signing_key(skey)\n",
    "        stake_skey = pc.StakeSigningKey.load(str(stake_skey_path))\n",
    "        stake_vkey = pc.StakeVerificationKey.from_signing_key(stake_skey)\n",
    "    else:\n",
    "        key_pair = pc.PaymentKeyPair.generate()\n",
    "        key_pair.signing_key.save(str(skey_path))\n",
    "        key_pair.verification_key.save(str(vkey_path))\n",
    "        stake_key_pair = pc.StakeKeyPair.generate()\n",
    "        stake_key_pair.signing_key.save(str(stake_skey_path))\n",
    "        stake_key_pair.verification_key.save(str(stake_vkey_path))\n",
    "        stake_skey = stake_key_pair.signing_key\n",
    "        stake_vkey = stake_key_pair.verification_key\n",
    "        skey = key_pair.signing_key\n",
    "        vkey = key_pair.verification_key\n",
    "    \n",
    "    return skey, vkey, stake_skey, stake_vkey"
   ]
  },
  {
   "cell_type": "code",
   "execution_count": 7,
   "metadata": {},
   "outputs": [],
   "source": [
    "owner_skey, owner_vkey, owner_stake_skey, owner_stake_vkey = load_or_create_key_pair(key_dir, \"owner\")\n",
    "beneficiary_skey, beneficiary_vkey, beneficiary_stake_skey, beneficiary_stake_vkey = load_or_create_key_pair(key_dir, \"bidder\")"
   ]
  },
  {
   "cell_type": "code",
   "execution_count": 8,
   "metadata": {},
   "outputs": [
    {
     "name": "stdout",
     "output_type": "stream",
     "text": [
      "Owner address: addr_test1qq5g0m0h7kzts8mfuckeuyr2qxk9fgfskz47kx0fz7l45m35sz43s8xuc9qt8kdxlchhy90d4yp0sa43vdrxuu9jewps34ue95\n",
      "beneficiary address: addr_test1qzjr9whvuyldxf9ft6998jjwnq72syr2yeqlmygxfhl2d2c8lxhg9ar5qfnk2w5j0gj6fvygkdcdgd9e7gftjgt4dvhqv0ej3s\n"
     ]
    }
   ],
   "source": [
    "owner_address = pc.Address(payment_part=owner_vkey.hash(), staking_part=owner_stake_vkey.hash(), network=NETWORK)\n",
    "beneficiary_address = pc.Address(payment_part=beneficiary_vkey.hash(), staking_part=beneficiary_stake_vkey.hash(), network=NETWORK)\n",
    "print(f\"Owner address: {owner_address}\")\n",
    "print(f\"beneficiary address: {beneficiary_address}\")"
   ]
  },
  {
   "cell_type": "code",
   "execution_count": 9,
   "metadata": {},
   "outputs": [],
   "source": [
    "vkey_hash: pc.VerificationKeyHash = beneficiary_address.payment_part"
   ]
  },
  {
   "cell_type": "code",
   "execution_count": 16,
   "metadata": {},
   "outputs": [
    {
     "data": {
      "text/plain": [
       "1680226754.0247638"
      ]
     },
     "execution_count": 16,
     "metadata": {},
     "output_type": "execute_result"
    }
   ],
   "source": [
    "time.time()"
   ]
  },
  {
   "cell_type": "code",
   "execution_count": 24,
   "metadata": {},
   "outputs": [],
   "source": [
    "# Create the vesting datum\n",
    "params = VestingParams(\n",
    "    beneficiary=bytes(vkey_hash),\n",
    "    deadline=int(time.time() + 5) * 1000,  # must be in milliseconds\n",
    ")"
   ]
  },
  {
   "cell_type": "code",
   "execution_count": 25,
   "metadata": {},
   "outputs": [],
   "source": [
    "script_path = pathlib.Path().cwd()\n",
    "script_path = script_path.joinpath(\"build\",\"vesting\", \"testnet.addr\")"
   ]
  },
  {
   "cell_type": "code",
   "execution_count": 26,
   "metadata": {},
   "outputs": [],
   "source": [
    "# Load script info\n",
    "with open(script_path) as f:\n",
    "        script_address = pc.Address.from_primitive(f.read())"
   ]
  },
  {
   "cell_type": "code",
   "execution_count": 27,
   "metadata": {},
   "outputs": [],
   "source": [
    "datum = params"
   ]
  },
  {
   "cell_type": "code",
   "execution_count": 28,
   "metadata": {},
   "outputs": [
    {
     "data": {
      "text/plain": [
       "TransactionBuilder(context=<pycardano.backend.ogmios.OgmiosChainContext object at 0x7f8d20e82d90>, utxo_selectors=[<pycardano.coinselection.RandomImproveMultiAsset object at 0x7f8cf09db730>, <pycardano.coinselection.LargestFirstSelector object at 0x7f8d20e821c0>], execution_memory_buffer=0.2, execution_step_buffer=0.2, ttl=None, validity_start=None, auxiliary_data=None, native_scripts=None, mint=None, required_signers=None, collaterals=[], certificates=None, withdrawals=None, reference_inputs=set(), _inputs=[], _excluded_inputs=[], _input_addresses=[addr_test1qq5g0m0h7kzts8mfuckeuyr2qxk9fgfskz47kx0fz7l45m35sz43s8xuc9qt8kdxlchhy90d4yp0sa43vdrxuu9jewps34ue95], _outputs=[{\n",
       "  'address': addr_test1wzx39q3s0k964gf3crsjtzfvej5tpgzl3pnnkg2hw2t96fc0wdyw8,\n",
       "  'amount': {'coin': 3000000, 'multi_asset': {}},\n",
       "  'datum': VestingParams(beneficiary=b'\\xa42\\xba\\xec\\xe1>\\xd3$\\xa9^\\x8aS\\xcaN\\x98<\\xa8\\x10j&A\\xfd\\x91\\x06M\\xfe\\xa6\\xab', deadline=1680226821000),\n",
       "  'datum_hash': None,\n",
       "  'post_alonzo': False,\n",
       "  'script': None,\n",
       "}], _fee=0, _datums={}, _collateral_return=None, _total_collateral=None, _inputs_to_redeemers={}, _minting_script_to_redeemers=[], _inputs_to_scripts={}, _reference_scripts=[], _should_estimate_execution_units=None)"
      ]
     },
     "execution_count": 28,
     "metadata": {},
     "output_type": "execute_result"
    }
   ],
   "source": [
    "# Build the transaction\n",
    "builder = pc.TransactionBuilder(context)\n",
    "builder.add_input_address(owner_address)\n",
    "builder.add_output(\n",
    "        pc.TransactionOutput(address=script_address, amount=3000000, datum=datum)\n",
    "    )\n",
    "\n"
   ]
  },
  {
   "cell_type": "code",
   "execution_count": 33,
   "metadata": {},
   "outputs": [
    {
     "name": "stdout",
     "output_type": "stream",
     "text": [
      "############### Transaction created ###############\n",
      "{\n",
      "  'auxiliary_data': None,\n",
      "  'transaction_body': {\n",
      "    'auxiliary_data_hash': None,\n",
      "    'certificates': None,\n",
      "    'collateral': None,\n",
      "    'collateral_return': None,\n",
      "    'fee': 169109,\n",
      "    'inputs': [\n",
      "      {\n",
      "        'index': 1,\n",
      "        'transaction_id': TransactionId(hex='09a87ffaab78b8ba90c240650af4662cbdb8543b7731a73b54b487314e929479'),\n",
      "      },\n",
      "    ],\n",
      "    'mint': None,\n",
      "    'network_id': None,\n",
      "    'outputs': [\n",
      "      {\n",
      "        'address': addr_test1wzx39q3s0k964gf3crsjtzfvej5tpgzl3pnnkg2hw2t96fc0wdyw8,\n",
      "        'amount': {'coin': 3000000, 'multi_asset': {}},\n",
      "        'datum': VestingParams(beneficiary=b'\\xa42\\xba\\xec\\xe1>\\xd3$\\xa9^\\x8aS\\xcaN\\x98<\\xa8\\x10j&A\\xfd\\x91\\x06M\\xfe\\xa6\\xab', deadline=1680226821000),\n",
      "        'datum_hash': None,\n",
      "        'post_alonzo': False,\n",
      "        'script': None,\n",
      "      },\n",
      "      {\n",
      "        'address': addr_test1qq5g0m0h7kzts8mfuckeuyr2qxk9fgfskz47kx0fz7l45m35sz43s8xuc9qt8kdxlchhy90d4yp0sa43vdrxuu9jewps34ue95,\n",
      "        'amount': {'coin': 9993659362, 'multi_asset': {}},\n",
      "        'datum': None,\n",
      "        'datum_hash': None,\n",
      "        'post_alonzo': False,\n",
      "        'script': None,\n",
      "      },\n",
      "    ],\n",
      "    'reference_inputs': None,\n",
      "    'required_signers': None,\n",
      "    'script_data_hash': None,\n",
      "    'total_collateral': None,\n",
      "    'ttl': None,\n",
      "    'update': None,\n",
      "    'validity_start': None,\n",
      "    'withdraws': None,\n",
      "  },\n",
      "  'transaction_witness_set': {\n",
      "    'bootstrap_witness': None,\n",
      "    'native_scripts': None,\n",
      "    'plutus_data': None,\n",
      "    'plutus_v1_script': None,\n",
      "    'plutus_v2_script': None,\n",
      "    'redeemer': None,\n",
      "    'vkey_witnesses': [\n",
      "      {\n",
      "        'signature': b'\\x94,`\\xd8{\\xedM|\\x01\\xd9\\xad+\\xeb}\\x13\\xa1R\\x8a\\xa2\\x14J_#0\\xf3Q(\\x0er{i\\xdb\\xd1\\x156\\xe6\\xde\\xb9\\x99F\\xd3\\xcd\\xf4\\xa4\\xf0\\x85\\x9e\\xd0\\xf9-\\xf7\\x951\\xd6\\xec7\\x87\\xbc\\xd8\\xa5F\\xe7\"\\x06',\n",
      "        'vkey': {\"type\": \"PaymentVerificationKeyShelley_ed25519\", \"description\": \"PaymentVerificationKeyShelley_ed25519\", \"cborHex\": \"5820cb830360c71cba974fd0f27d0b38a3ed4002be65085e8eca02ee9b76c4557354\"},\n",
      "      },\n",
      "    ],\n",
      "  },\n",
      "  'valid': True,\n",
      "}\n",
      "84a3008182582009a87ffaab78b8ba90c240650af4662cbdb8543b7731a73b54b487314e929479010182a300581d708d1282307d8baaa131c0e125892ccca8b0a05f88673b215772965d27011a002dc6c0028201d818582bd8799f581ca432baece13ed324a95e8a53ca4e983ca8106a2641fd91064dfea6ab1b000001873552a388ff825839002887edf7f584b81f69e62d9e106a01ac54a130b0abeb19e917bf5a6e3480ab181cdcc140b3d9a6fe2f7215eda902f876b163466e70b2cb831b0000000253ab23e2021a00029495a10081825820cb830360c71cba974fd0f27d0b38a3ed4002be65085e8eca02ee9b76c45573545840942c60d87bed4d7c01d9ad2beb7d13a1528aa2144a5f2330f351280e727b69dbd11536e6deb99946d3cdf4a4f0859ed0f92df79531d6ec3787bcd8a546e72206f5f6\n"
     ]
    }
   ],
   "source": [
    "# Sign the transaction\n",
    "signed_tx = builder.build_and_sign(\n",
    "    signing_keys=[owner_skey],\n",
    "    change_address=owner_address,\n",
    ")\n",
    "\n",
    "print(\"############### Transaction created ###############\")\n",
    "print(signed_tx)\n",
    "print(signed_tx.to_cbor())"
   ]
  },
  {
   "cell_type": "code",
   "execution_count": 34,
   "metadata": {},
   "outputs": [
    {
     "name": "stdout",
     "output_type": "stream",
     "text": [
      "transaction id: 56e8aa4dcdbb5b7c515b875621de26f0ed7befb34552c9432071d863ce48f23b\n",
      "Cardanoscan: https://preprod.cardanoscan.io/transaction/56e8aa4dcdbb5b7c515b875621de26f0ed7befb34552c9432071d863ce48f23b\n"
     ]
    }
   ],
   "source": [
    "# Submit the transaction\n",
    "# context.submit_tx(signed_tx.to_cbor())\n",
    "\n",
    "print(f\"transaction id: {signed_tx.id}\")\n",
    "print(f\"Cardanoscan: https://preprod.cardanoscan.io/transaction/{signed_tx.id}\")"
   ]
  }
 ],
 "metadata": {
  "kernelspec": {
   "display_name": "base",
   "language": "python",
   "name": "python3"
  },
  "language_info": {
   "codemirror_mode": {
    "name": "ipython",
    "version": 3
   },
   "file_extension": ".py",
   "mimetype": "text/x-python",
   "name": "python",
   "nbconvert_exporter": "python",
   "pygments_lexer": "ipython3",
   "version": "3.9.7"
  },
  "orig_nbformat": 4,
  "vscode": {
   "interpreter": {
    "hash": "40d3a090f54c6569ab1632332b64b2c03c39dcf918b08424e98f38b5ae0af88f"
   }
  }
 },
 "nbformat": 4,
 "nbformat_minor": 2
}
