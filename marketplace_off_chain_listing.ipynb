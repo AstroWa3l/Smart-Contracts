{
 "cells": [
  {
   "cell_type": "code",
   "execution_count": 1,
   "metadata": {},
   "outputs": [],
   "source": [
    "import os\n",
    "import pycardano as pc\n",
    "import random\n",
    "import time\n",
    "from marketplace import * \n",
    "import pathlib"
   ]
  },
  {
   "attachments": {},
   "cell_type": "markdown",
   "metadata": {},
   "source": [
    "OKay so what we are going to try and do is build the marketplace contract for our own testing purposes. One thing we need to do first is make new keys to be used for payment/receiving testing."
   ]
  },
  {
   "cell_type": "code",
   "execution_count": 2,
   "metadata": {},
   "outputs": [],
   "source": [
    "# Copy your BlockFrost project ID below. Go to https://blockfrost.io/ for more information.\n",
    "# BLOCK_FROST_PROJECT_ID = \"your_project_id\"\n",
    "NETWORK = pc.Network.TESTNET\n",
    "\n",
    "# Use ogmios backend for chain context\n",
    "context = pc.OgmiosChainContext(ws_url=\"wss://ogmios-preprod-api-testing-2fdd06.us1.demeter.run\", network=NETWORK)\n",
    "\n",
    "# chain_context = BlockFrostChainContext(\n",
    "#     project_id=BLOCK_FROST_PROJECT_ID,\n",
    "#     base_url=ApiUrls.preprod.value,\n",
    "# )\n",
    "\n",
    "\"\"\"Preparation\"\"\"\n",
    "# Define the root directory where images and keys will be stored.\n",
    "PROJECT_ROOT = \"marketplace\"\n",
    "root = pathlib.Path(PROJECT_ROOT)\n",
    "\n",
    "# Create the directory if it doesn't exist\n",
    "root.mkdir(parents=True, exist_ok=True)\n",
    "\n",
    "\"\"\"Generate keys\"\"\"\n",
    "key_dir = root / \"keys\"\n",
    "key_dir.mkdir(exist_ok=True)"
   ]
  },
  {
   "cell_type": "code",
   "execution_count": 3,
   "metadata": {},
   "outputs": [],
   "source": [
    "# Load payment keys or create them if they don't exist\n",
    "def load_or_create_key_pair(base_dir, base_name):\n",
    "    skey_path = base_dir / f\"{base_name}.skey\"\n",
    "    vkey_path = base_dir / f\"{base_name}.vkey\"\n",
    "    stake_skey_path = base_dir / f\"{base_name}_stake.skey\"\n",
    "    stake_vkey_path = base_dir / f\"{base_name}_stake.vkey\"\n",
    "\n",
    "    if skey_path.exists():\n",
    "        skey = pc.PaymentSigningKey.load(str(skey_path))\n",
    "        vkey = pc.PaymentVerificationKey.from_signing_key(skey)\n",
    "        stake_skey = pc.StakeSigningKey.load(str(stake_skey_path))\n",
    "        stake_vkey = pc.StakeVerificationKey.from_signing_key(stake_skey)\n",
    "    else:\n",
    "        key_pair = pc.PaymentKeyPair.generate()\n",
    "        key_pair.signing_key.save(str(skey_path))\n",
    "        key_pair.verification_key.save(str(vkey_path))\n",
    "        stake_key_pair = pc.StakeKeyPair.generate()\n",
    "        stake_key_pair.signing_key.save(str(stake_skey_path))\n",
    "        stake_key_pair.verification_key.save(str(stake_vkey_path))\n",
    "        stake_skey = stake_key_pair.signing_key\n",
    "        stake_vkey = stake_key_pair.verification_key\n",
    "        skey = key_pair.signing_key\n",
    "        vkey = key_pair.verification_key\n",
    "    \n",
    "    return skey, vkey, stake_skey, stake_vkey"
   ]
  },
  {
   "cell_type": "code",
   "execution_count": 4,
   "metadata": {},
   "outputs": [],
   "source": [
    "owner_skey, owner_vkey, owner_stake_skey, owner_stake_vkey = load_or_create_key_pair(key_dir, \"owner\")\n",
    "\n",
    "\n",
    "bidder_skey, bidder_vkey, bidder_stake_skey, bidder_stake_vkey = load_or_create_key_pair(key_dir, \"bidder\")"
   ]
  },
  {
   "cell_type": "code",
   "execution_count": 5,
   "metadata": {},
   "outputs": [],
   "source": [
    "owner_address = pc.Address(payment_part=owner_vkey.hash(), staking_part=owner_stake_vkey.hash(), network=NETWORK)\n",
    "bidder_address = pc.Address(payment_part=bidder_vkey.hash(), staking_part=bidder_stake_vkey.hash(), network=NETWORK)"
   ]
  },
  {
   "cell_type": "code",
   "execution_count": 6,
   "metadata": {},
   "outputs": [
    {
     "name": "stdout",
     "output_type": "stream",
     "text": [
      "Owner address: addr_test1qq5g0m0h7kzts8mfuckeuyr2qxk9fgfskz47kx0fz7l45m35sz43s8xuc9qt8kdxlchhy90d4yp0sa43vdrxuu9jewps34ue95\n",
      "Bidder address: addr_test1qzjr9whvuyldxf9ft6998jjwnq72syr2yeqlmygxfhl2d2c8lxhg9ar5qfnk2w5j0gj6fvygkdcdgd9e7gftjgt4dvhqv0ej3s\n"
     ]
    }
   ],
   "source": [
    "print(f\"Owner address: {owner_address}\")\n",
    "print(f\"Bidder address: {bidder_address}\")"
   ]
  },
  {
   "cell_type": "code",
   "execution_count": 7,
   "metadata": {},
   "outputs": [],
   "source": [
    "# get the bidder's vkey hash\n",
    "bidder_vkey_hash: pc.VerificationKeyHash = bidder_address.payment_part\n"
   ]
  },
  {
   "cell_type": "code",
   "execution_count": 8,
   "metadata": {},
   "outputs": [],
   "source": [
    "# Listing parameters\n",
    "params = Listing(\n",
    "        price=100000000,\n",
    "        vendor=owner_address,\n",
    "        owner=bytes(bidder_vkey_hash)\n",
    "        )"
   ]
  },
  {
   "cell_type": "code",
   "execution_count": 9,
   "metadata": {},
   "outputs": [],
   "source": [
    "script_path = pathlib.Path().cwd()\n",
    "script_path = script_path.joinpath(\"build\",\"marketplace\", \"testnet.addr\")"
   ]
  },
  {
   "cell_type": "code",
   "execution_count": 10,
   "metadata": {},
   "outputs": [],
   "source": [
    "# Load script info\n",
    "with open(script_path) as f:\n",
    "        script_address = pc.Address.from_primitive(f.read())"
   ]
  },
  {
   "cell_type": "code",
   "execution_count": 11,
   "metadata": {},
   "outputs": [],
   "source": [
    "datum = params"
   ]
  },
  {
   "cell_type": "code",
   "execution_count": 12,
   "metadata": {},
   "outputs": [
    {
     "data": {
      "text/plain": [
       "TransactionBuilder(context=<pycardano.backend.ogmios.OgmiosChainContext object at 0x7f7d9837e940>, utxo_selectors=[<pycardano.coinselection.RandomImproveMultiAsset object at 0x7f7d482cb8e0>, <pycardano.coinselection.LargestFirstSelector object at 0x7f7d88e264c0>], execution_memory_buffer=0.2, execution_step_buffer=0.2, ttl=None, validity_start=None, auxiliary_data=None, native_scripts=None, mint=None, required_signers=None, collaterals=[], certificates=None, withdrawals=None, reference_inputs=set(), _inputs=[], _excluded_inputs=[], _input_addresses=[addr_test1qq5g0m0h7kzts8mfuckeuyr2qxk9fgfskz47kx0fz7l45m35sz43s8xuc9qt8kdxlchhy90d4yp0sa43vdrxuu9jewps34ue95], _outputs=[{\n",
       "  'address': addr_test1wqvfw4e97r4rw7ue4t47326kuendl8eua4acllfa4t5djgqvzrycq,\n",
       "  'amount': {'coin': 3000000, 'multi_asset': {}},\n",
       "  'datum': Listing(price=100000000, vendor=addr_test1qq5g0m0h7kzts8mfuckeuyr2qxk9fgfskz47kx0fz7l45m35sz43s8xuc9qt8kdxlchhy90d4yp0sa43vdrxuu9jewps34ue95, owner=b'\\xa42\\xba\\xec\\xe1>\\xd3$\\xa9^\\x8aS\\xcaN\\x98<\\xa8\\x10j&A\\xfd\\x91\\x06M\\xfe\\xa6\\xab'),\n",
       "  'datum_hash': None,\n",
       "  'post_alonzo': False,\n",
       "  'script': None,\n",
       "}], _fee=0, _datums={}, _collateral_return=None, _total_collateral=None, _inputs_to_redeemers={}, _minting_script_to_redeemers=[], _inputs_to_scripts={}, _reference_scripts=[], _should_estimate_execution_units=None)"
      ]
     },
     "execution_count": 12,
     "metadata": {},
     "output_type": "execute_result"
    }
   ],
   "source": [
    "# Build the transaction\n",
    "builder = pc.TransactionBuilder(context)\n",
    "builder.add_input_address(owner_address)\n",
    "builder.add_output(\n",
    "        pc.TransactionOutput(address=script_address, amount=3000000, datum=datum)\n",
    "    )"
   ]
  },
  {
   "cell_type": "code",
   "execution_count": 13,
   "metadata": {},
   "outputs": [
    {
     "data": {
      "text/plain": [
       "addr_test1qq5g0m0h7kzts8mfuckeuyr2qxk9fgfskz47kx0fz7l45m35sz43s8xuc9qt8kdxlchhy90d4yp0sa43vdrxuu9jewps34ue95"
      ]
     },
     "execution_count": 13,
     "metadata": {},
     "output_type": "execute_result"
    }
   ],
   "source": [
    "owner_address"
   ]
  },
  {
   "cell_type": "code",
   "execution_count": 14,
   "metadata": {},
   "outputs": [
    {
     "name": "stdout",
     "output_type": "stream",
     "text": [
      "############### Transaction created ###############\n",
      "{\n",
      "  'auxiliary_data': None,\n",
      "  'transaction_body': {\n",
      "    'auxiliary_data_hash': None,\n",
      "    'certificates': None,\n",
      "    'collateral': None,\n",
      "    'collateral_return': None,\n",
      "    'fee': 171529,\n",
      "    'inputs': [\n",
      "      {\n",
      "        'index': 1,\n",
      "        'transaction_id': TransactionId(hex='56e8aa4dcdbb5b7c515b875621de26f0ed7befb34552c9432071d863ce48f23b'),\n",
      "      },\n",
      "    ],\n",
      "    'mint': None,\n",
      "    'network_id': None,\n",
      "    'outputs': [\n",
      "      {\n",
      "        'address': addr_test1wqvfw4e97r4rw7ue4t47326kuendl8eua4acllfa4t5djgqvzrycq,\n",
      "        'amount': {'coin': 3000000, 'multi_asset': {}},\n",
      "        'datum': Listing(price=100000000, vendor=addr_test1qq5g0m0h7kzts8mfuckeuyr2qxk9fgfskz47kx0fz7l45m35sz43s8xuc9qt8kdxlchhy90d4yp0sa43vdrxuu9jewps34ue95, owner=b'\\xa42\\xba\\xec\\xe1>\\xd3$\\xa9^\\x8aS\\xcaN\\x98<\\xa8\\x10j&A\\xfd\\x91\\x06M\\xfe\\xa6\\xab'),\n",
      "        'datum_hash': None,\n",
      "        'post_alonzo': False,\n",
      "        'script': None,\n",
      "      },\n",
      "      {\n",
      "        'address': addr_test1qq5g0m0h7kzts8mfuckeuyr2qxk9fgfskz47kx0fz7l45m35sz43s8xuc9qt8kdxlchhy90d4yp0sa43vdrxuu9jewps34ue95,\n",
      "        'amount': {'coin': 9990487833, 'multi_asset': {}},\n",
      "        'datum': None,\n",
      "        'datum_hash': None,\n",
      "        'post_alonzo': False,\n",
      "        'script': None,\n",
      "      },\n",
      "    ],\n",
      "    'reference_inputs': None,\n",
      "    'required_signers': None,\n",
      "    'script_data_hash': None,\n",
      "    'total_collateral': None,\n",
      "    'ttl': None,\n",
      "    'update': None,\n",
      "    'validity_start': None,\n",
      "    'withdraws': None,\n",
      "  },\n",
      "  'transaction_witness_set': {\n",
      "    'bootstrap_witness': None,\n",
      "    'native_scripts': None,\n",
      "    'plutus_data': None,\n",
      "    'plutus_v1_script': None,\n",
      "    'plutus_v2_script': None,\n",
      "    'redeemer': None,\n",
      "    'vkey_witnesses': [\n",
      "      {\n",
      "        'signature': b'\\x1d\\x06\\r,\\\\\\xc2\\xf8\\x14d\\xa3U\\xd5\\xde\\x95\\x12L^\\xfe\\x06\\x8a{vB\\x89\\x92\\xc2\\x0cO\\x0e\\xbc\\xe1\\xf9U\\xa5WT\\xc6\\x15U\\xd8:\\x9a\\xa8\\x06V\\xe7\\x94\\xce\\xb8d>D\\xc4\\x08\\x84x&\\xf2\\xbd\\xa6\\xb9\\x9d\\x81\\x00',\n",
      "        'vkey': {\"type\": \"PaymentVerificationKeyShelley_ed25519\", \"description\": \"PaymentVerificationKeyShelley_ed25519\", \"cborHex\": \"5820cb830360c71cba974fd0f27d0b38a3ed4002be65085e8eca02ee9b76c4557354\"},\n",
      "      },\n",
      "    ],\n",
      "  },\n",
      "  'valid': True,\n",
      "}\n",
      "84a3008182582056e8aa4dcdbb5b7c515b875621de26f0ed7befb34552c9432071d863ce48f23b010182a300581d7018975725f0ea377b99aaebe8ab56e666df9f3ced7b8ffd3daae8d920011a002dc6c0028201d8185862d8799f1a05f5e1005839002887edf7f584b81f69e62d9e106a01ac54a130b0abeb19e917bf5a6e3480ab181cdcc140b3d9a6fe2f7215eda902f876b163466e70b2cb83581ca432baece13ed324a95e8a53ca4e983ca8106a2641fd91064dfea6abff825839002887edf7f584b81f69e62d9e106a01ac54a130b0abeb19e917bf5a6e3480ab181cdcc140b3d9a6fe2f7215eda902f876b163466e70b2cb831b00000002537abf19021a00029e09a10081825820cb830360c71cba974fd0f27d0b38a3ed4002be65085e8eca02ee9b76c455735458401d060d2c5cc2f81464a355d5de95124c5efe068a7b76428992c20c4f0ebce1f955a55754c61555d83a9aa80656e794ceb8643e44c408847826f2bda6b99d8100f5f6\n"
     ]
    }
   ],
   "source": [
    "# Sign the transaction\n",
    "signed_tx = builder.build_and_sign(\n",
    "    signing_keys=[owner_skey],\n",
    "    change_address=owner_address,\n",
    ")\n",
    "\n",
    "print(\"############### Transaction created ###############\")\n",
    "print(signed_tx)\n",
    "print(signed_tx.to_cbor())"
   ]
  },
  {
   "cell_type": "code",
   "execution_count": 15,
   "metadata": {},
   "outputs": [
    {
     "name": "stdout",
     "output_type": "stream",
     "text": [
      "transaction id: f2545995530a7dcd1a2a74e89c2b56e500d6cbc792d5bc31751a021898ec6434\n",
      "Cardanoscan: https://preprod.cardanoscan.io/transaction/f2545995530a7dcd1a2a74e89c2b56e500d6cbc792d5bc31751a021898ec6434\n"
     ]
    }
   ],
   "source": [
    "# Submit the transaction\n",
    "context.submit_tx(signed_tx.to_cbor())\n",
    "\n",
    "print(f\"transaction id: {signed_tx.id}\")\n",
    "print(f\"Cardanoscan: https://preprod.cardanoscan.io/transaction/{signed_tx.id}\")"
   ]
  },
  {
   "cell_type": "code",
   "execution_count": null,
   "metadata": {},
   "outputs": [],
   "source": []
  }
 ],
 "metadata": {
  "kernelspec": {
   "display_name": "base",
   "language": "python",
   "name": "python3"
  },
  "language_info": {
   "codemirror_mode": {
    "name": "ipython",
    "version": 3
   },
   "file_extension": ".py",
   "mimetype": "text/x-python",
   "name": "python",
   "nbconvert_exporter": "python",
   "pygments_lexer": "ipython3",
   "version": "3.9.7"
  },
  "orig_nbformat": 4
 },
 "nbformat": 4,
 "nbformat_minor": 2
}
